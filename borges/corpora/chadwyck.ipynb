{
 "cells": [
  {
   "cell_type": "code",
   "execution_count": 1,
   "metadata": {},
   "outputs": [],
   "source": [
    "import os,sys; sys.path.insert(0,os.path.abspath('../..'))\n",
    "import os,sys; sys.path.insert(0,os.path.abspath('/Users/ryan/github/yapmap'))\n",
    "\n",
    "from borges import *\n",
    "from chadwyck import *\n",
    "from yapmap import *"
   ]
  },
  {
   "cell_type": "code",
   "execution_count": 2,
   "metadata": {},
   "outputs": [],
   "source": [
    "class ChadwyckCorpus(BaseCorpus):\n",
    "    id='chadwyck'\n",
    "    name='Chadwyck'\n",
    "    ext_raw = '.new'\n",
    "\n",
    "    def compile_metadata(self, num_proc=4, lim=None, **kwargs):\n",
    "        res=pmap(compile_metadata, self.filenames_raw[:lim], num_proc=num_proc, **kwargs)\n",
    "        df=pd.DataFrame(res).set_index(KEY_ID)\n",
    "        df.to_csv(self.path_metadata)\n",
    "\n",
    "    def compile_pages(self, num_proc=4, lim=None, **kwargs):\n",
    "        pmap(\n",
    "            compile_pages, \n",
    "            self.filenames_raw[:lim], \n",
    "            num_proc=num_proc, \n",
    "            **kwargs\n",
    "        )"
   ]
  },
  {
   "cell_type": "code",
   "execution_count": 3,
   "metadata": {},
   "outputs": [],
   "source": [
    "C=ChadwyckCorpus()"
   ]
  },
  {
   "cell_type": "code",
   "execution_count": 4,
   "metadata": {},
   "outputs": [
    {
     "name": "stderr",
     "output_type": "stream",
     "text": [
      "100%|██████████| 36/36 [00:40<00:00,  1.14s/it]]/1338 [00:00<?, ?it/s]\n",
      "100%|██████████| 49/49 [00:56<00:00,  1.16s/it]]\n",
      "100%|██████████| 53/53 [01:00<00:00,  1.15s/it]]\n",
      "100%|██████████| 73/73 [01:28<00:00,  1.22s/it]]\n",
      "100%|██████████| 47/47 [00:59<00:00,  1.27s/it]]/1338 [01:29<33:11:59, 89.39s/it]\n",
      "100%|██████████| 114/114 [02:37<00:00,  1.38s/it] \n",
      " 74%|███████▍  | 214/288 [04:39<01:36,  1.31s/it]1338 [04:40<34:37:05, 93.35s/it]\n",
      " 77%|███████▋  | 214/278 [04:39<01:23,  1.31s/it]\n",
      "\n",
      "\n",
      "Process SpawnPoolWorker-8:\n",
      " 18%|█▊        | 161/920 [03:38<17:09,  1.36s/it]\n",
      " 14%|█▍        | 131/935 [02:58<18:16,  1.36s/it]\n",
      "Process SpawnPoolWorker-7:\n",
      "Process SpawnPoolWorker-5:\n",
      "Process SpawnPoolWorker-6:\n",
      " 24%|██▍       | 214/896 [04:39<14:50,  1.31s/it]\n",
      "  6%|▌         | 27/439 [00:32<08:20,  1.22s/it]\n",
      "\n",
      "Process SpawnPoolWorker-2:\n",
      "Process SpawnPoolWorker-1:\n",
      "Process SpawnPoolWorker-3:\n",
      "Process SpawnPoolWorker-4:\n",
      "/Users/ryan/.pyenv/versions/3.8.14/lib/python3.8/multiprocessing/resource_tracker.py:216: UserWarning: resource_tracker: There appear to be 1 leaked semaphore objects to clean up at shutdown\n",
      "  warnings.warn('resource_tracker: There appear to be %d '\n",
      "/Users/ryan/.pyenv/versions/3.8.14/lib/python3.8/multiprocessing/resource_tracker.py:216: UserWarning: resource_tracker: There appear to be 1 leaked semaphore objects to clean up at shutdown\n",
      "  warnings.warn('resource_tracker: There appear to be %d '\n",
      "/Users/ryan/.pyenv/versions/3.8.14/lib/python3.8/multiprocessing/resource_tracker.py:216: UserWarning: resource_tracker: There appear to be 1 leaked semaphore objects to clean up at shutdown\n",
      "  warnings.warn('resource_tracker: There appear to be %d '\n",
      "/Users/ryan/.pyenv/versions/3.8.14/lib/python3.8/multiprocessing/resource_tracker.py:216: UserWarning: resource_tracker: There appear to be 1 leaked semaphore objects to clean up at shutdown\n",
      "  warnings.warn('resource_tracker: There appear to be %d '\n",
      "/Users/ryan/.pyenv/versions/3.8.14/lib/python3.8/multiprocessing/resource_tracker.py:216: UserWarning: resource_tracker: There appear to be 1 leaked semaphore objects to clean up at shutdown\n",
      "  warnings.warn('resource_tracker: There appear to be %d '\n",
      "/Users/ryan/.pyenv/versions/3.8.14/lib/python3.8/multiprocessing/resource_tracker.py:216: UserWarning: resource_tracker: There appear to be 1 leaked semaphore objects to clean up at shutdown\n",
      "  warnings.warn('resource_tracker: There appear to be %d '\n",
      "/Users/ryan/.pyenv/versions/3.8.14/lib/python3.8/multiprocessing/resource_tracker.py:216: UserWarning: resource_tracker: There appear to be 1 leaked semaphore objects to clean up at shutdown\n",
      "  warnings.warn('resource_tracker: There appear to be %d '\n",
      "/Users/ryan/.pyenv/versions/3.8.14/lib/python3.8/multiprocessing/resource_tracker.py:216: UserWarning: resource_tracker: There appear to be 1 leaked semaphore objects to clean up at shutdown\n",
      "  warnings.warn('resource_tracker: There appear to be %d '\n"
     ]
    },
    {
     "ename": "KeyboardInterrupt",
     "evalue": "",
     "output_type": "error",
     "traceback": [
      "\u001b[0;31m---------------------------------------------------------------------------\u001b[0m",
      "\u001b[0;31mIndexError\u001b[0m                                Traceback (most recent call last)",
      "File \u001b[0;32m~/github/lltk/venv/lib/python3.8/site-packages/multiprocess/pool.py:851\u001b[0m, in \u001b[0;36mIMapIterator.next\u001b[0;34m(self, timeout)\u001b[0m\n\u001b[1;32m    850\u001b[0m \u001b[39mtry\u001b[39;00m:\n\u001b[0;32m--> 851\u001b[0m     item \u001b[39m=\u001b[39m \u001b[39mself\u001b[39;49m\u001b[39m.\u001b[39;49m_items\u001b[39m.\u001b[39;49mpopleft()\n\u001b[1;32m    852\u001b[0m \u001b[39mexcept\u001b[39;00m \u001b[39mIndexError\u001b[39;00m:\n",
      "\u001b[0;31mIndexError\u001b[0m: pop from an empty deque",
      "\nDuring handling of the above exception, another exception occurred:\n",
      "\u001b[0;31mKeyboardInterrupt\u001b[0m                         Traceback (most recent call last)",
      "Cell \u001b[0;32mIn[4], line 2\u001b[0m\n\u001b[1;32m      1\u001b[0m \u001b[39m# C.compile_metadata(lim=None, num_proc=8)\u001b[39;00m\n\u001b[0;32m----> 2\u001b[0m C\u001b[39m.\u001b[39;49mcompile_pages(num_proc\u001b[39m=\u001b[39;49m\u001b[39m8\u001b[39;49m,lim\u001b[39m=\u001b[39;49m\u001b[39mNone\u001b[39;49;00m)\n",
      "Cell \u001b[0;32mIn[2], line 12\u001b[0m, in \u001b[0;36mChadwyckCorpus.compile_pages\u001b[0;34m(self, num_proc, lim, **kwargs)\u001b[0m\n\u001b[1;32m     11\u001b[0m \u001b[39mdef\u001b[39;00m \u001b[39mcompile_pages\u001b[39m(\u001b[39mself\u001b[39m, num_proc\u001b[39m=\u001b[39m\u001b[39m4\u001b[39m, lim\u001b[39m=\u001b[39m\u001b[39mNone\u001b[39;00m, \u001b[39m*\u001b[39m\u001b[39m*\u001b[39mkwargs):\n\u001b[0;32m---> 12\u001b[0m     pmap(\n\u001b[1;32m     13\u001b[0m         compile_pages, \n\u001b[1;32m     14\u001b[0m         \u001b[39mself\u001b[39;49m\u001b[39m.\u001b[39;49mfilenames_raw[:lim], \n\u001b[1;32m     15\u001b[0m         num_proc\u001b[39m=\u001b[39;49mnum_proc, \n\u001b[1;32m     16\u001b[0m         \u001b[39m*\u001b[39;49m\u001b[39m*\u001b[39;49mkwargs\n\u001b[1;32m     17\u001b[0m     )\n",
      "File \u001b[0;32m~/github/yapmap/yapmap/yapmap.py:94\u001b[0m, in \u001b[0;36mpmap\u001b[0;34m(*x, **y)\u001b[0m\n\u001b[1;32m     90\u001b[0m \u001b[39m\u001b[39m\u001b[39m\"\"\"\u001b[39;00m\n\u001b[1;32m     91\u001b[0m \u001b[39mNon iterator version of pmap_iter\u001b[39;00m\n\u001b[1;32m     92\u001b[0m \u001b[39m\"\"\"\u001b[39;00m\n\u001b[1;32m     93\u001b[0m \u001b[39m# return as list\u001b[39;00m\n\u001b[0;32m---> 94\u001b[0m \u001b[39mreturn\u001b[39;00m \u001b[39mlist\u001b[39;49m(pmap_iter(\u001b[39m*\u001b[39;49mx,\u001b[39m*\u001b[39;49m\u001b[39m*\u001b[39;49my))\n",
      "File \u001b[0;32m~/github/yapmap/yapmap/yapmap.py:78\u001b[0m, in \u001b[0;36mpmap_iter\u001b[0;34m(func, objs, args, kwargs, lim, num_proc, use_threads, progress, progress_pos, desc, context, **y)\u001b[0m\n\u001b[1;32m     74\u001b[0m     \u001b[39mwith\u001b[39;00m mp\u001b[39m.\u001b[39mget_context(context)\u001b[39m.\u001b[39mPool(num_proc) \u001b[39mas\u001b[39;00m pool:\n\u001b[1;32m     75\u001b[0m         \u001b[39m# yield iter\u001b[39;00m\n\u001b[1;32m     76\u001b[0m         iterr \u001b[39m=\u001b[39m pool\u001b[39m.\u001b[39mimap(_pmap_do, objects)\n\u001b[0;32m---> 78\u001b[0m         \u001b[39mfor\u001b[39;00m res \u001b[39min\u001b[39;00m get_tqdm(iterr,total\u001b[39m=\u001b[39m\u001b[39mlen\u001b[39m(objects),desc\u001b[39m=\u001b[39mdesc,position\u001b[39m=\u001b[39mprogress_pos) \u001b[39mif\u001b[39;00m progress \u001b[39melse\u001b[39;00m iterr:\n\u001b[1;32m     79\u001b[0m             \u001b[39myield\u001b[39;00m res\n\u001b[1;32m     80\u001b[0m \u001b[39melse\u001b[39;00m:\n\u001b[1;32m     81\u001b[0m     \u001b[39m# yield\u001b[39;00m\n",
      "File \u001b[0;32m~/github/lltk/venv/lib/python3.8/site-packages/tqdm/std.py:1195\u001b[0m, in \u001b[0;36mtqdm.__iter__\u001b[0;34m(self)\u001b[0m\n\u001b[1;32m   1192\u001b[0m time \u001b[39m=\u001b[39m \u001b[39mself\u001b[39m\u001b[39m.\u001b[39m_time\n\u001b[1;32m   1194\u001b[0m \u001b[39mtry\u001b[39;00m:\n\u001b[0;32m-> 1195\u001b[0m     \u001b[39mfor\u001b[39;00m obj \u001b[39min\u001b[39;00m iterable:\n\u001b[1;32m   1196\u001b[0m         \u001b[39myield\u001b[39;00m obj\n\u001b[1;32m   1197\u001b[0m         \u001b[39m# Update and possibly print the progressbar.\u001b[39;00m\n\u001b[1;32m   1198\u001b[0m         \u001b[39m# Note: does not call self.update(1) for speed optimisation.\u001b[39;00m\n",
      "File \u001b[0;32m~/github/lltk/venv/lib/python3.8/site-packages/multiprocess/pool.py:856\u001b[0m, in \u001b[0;36mIMapIterator.next\u001b[0;34m(self, timeout)\u001b[0m\n\u001b[1;32m    854\u001b[0m     \u001b[39mself\u001b[39m\u001b[39m.\u001b[39m_pool \u001b[39m=\u001b[39m \u001b[39mNone\u001b[39;00m\n\u001b[1;32m    855\u001b[0m     \u001b[39mraise\u001b[39;00m \u001b[39mStopIteration\u001b[39;00m \u001b[39mfrom\u001b[39;00m \u001b[39mNone\u001b[39m\n\u001b[0;32m--> 856\u001b[0m \u001b[39mself\u001b[39;49m\u001b[39m.\u001b[39;49m_cond\u001b[39m.\u001b[39;49mwait(timeout)\n\u001b[1;32m    857\u001b[0m \u001b[39mtry\u001b[39;00m:\n\u001b[1;32m    858\u001b[0m     item \u001b[39m=\u001b[39m \u001b[39mself\u001b[39m\u001b[39m.\u001b[39m_items\u001b[39m.\u001b[39mpopleft()\n",
      "File \u001b[0;32m~/.pyenv/versions/3.8.14/lib/python3.8/threading.py:302\u001b[0m, in \u001b[0;36mCondition.wait\u001b[0;34m(self, timeout)\u001b[0m\n\u001b[1;32m    300\u001b[0m \u001b[39mtry\u001b[39;00m:    \u001b[39m# restore state no matter what (e.g., KeyboardInterrupt)\u001b[39;00m\n\u001b[1;32m    301\u001b[0m     \u001b[39mif\u001b[39;00m timeout \u001b[39mis\u001b[39;00m \u001b[39mNone\u001b[39;00m:\n\u001b[0;32m--> 302\u001b[0m         waiter\u001b[39m.\u001b[39;49macquire()\n\u001b[1;32m    303\u001b[0m         gotit \u001b[39m=\u001b[39m \u001b[39mTrue\u001b[39;00m\n\u001b[1;32m    304\u001b[0m     \u001b[39melse\u001b[39;00m:\n",
      "\u001b[0;31mKeyboardInterrupt\u001b[0m: "
     ]
    }
   ],
   "source": [
    "# C.compile_metadata(lim=None, num_proc=8)\n",
    "C.compile_pages(num_proc=8,lim=None)"
   ]
  },
  {
   "cell_type": "code",
   "execution_count": null,
   "metadata": {},
   "outputs": [],
   "source": []
  },
  {
   "cell_type": "code",
   "execution_count": null,
   "metadata": {},
   "outputs": [],
   "source": [
    "# %%timeit\n",
    "# solr=get_meta_solr()\n",
    "# res=solr.search('id:_chadwyck/Eighteenth-Century_Fiction/haywood.11')\n",
    "# for x in res: break\n",
    "# x"
   ]
  },
  {
   "cell_type": "code",
   "execution_count": null,
   "metadata": {},
   "outputs": [
    {
     "data": {
      "text/plain": [
       "{'id': '_chadwyck/Eighteenth-Century_Fiction/haywood.11/page/9',\n",
       " 'text_id': ['_chadwyck/Eighteenth-Century_Fiction/haywood.11'],\n",
       " 'page_num': ['9'],\n",
       " 'page': ['<pb n=\"9\">\\n<ps>it in such a manner, that no Mortal was\\nable to resist their Force—And, indeed,\\nwhen Passion enters the Soul by such gentle and\\nunperceiv\\'d Degrees, it generally takes a surer hold,\\nand is with much less ease extirpated, than when\\nit rushes all at once upon us, and boldly tells us\\nthat we must obey. </ps></s></p>\\n<p><s><hi r=\"smcap\">Lasselia</hi> being such, and infinitely more agreeable\\nthan I have power to represent her, \\'tis\\neasy to believe she was not without a very great\\nNumber of Adorers: Both her Parents being dead,\\nMadam <hi r=\"italic\">de</hi> <hi r=\"smcap\">Montespan</hi> was never at rest for\\nthe Sollicitations of those whom the Perfections of\\nher beautiful Neice had attracted to desire her in\\nMarriage: but that Lady having Affairs enough\\nof her own to manage, troubled not herself much\\nabout it; and had <hi r=\"smcap\">Lasselia</hi> been inclinable to\\nalter her Condition, whether to her Advantage or\\nnot, \\'tis probable the other, in spite of the Kindness\\nshe had for her, would not have taken much\\npains either to have forwarded or prevented it. </s></p>\\n<p><s><hi r=\"smcap\">The</hi> young, and as yet insensible Subject of\\nthis little History, thought herself happy in this\\nDisposition of her Aunt, which gave her so much\\nthe liberty of acting as she pleas\\'d; for finding in\\nherself rather an Aversion to Marriage, than any\\nInclination to it, nothing could have been so\\nshocking to the Humility and Sweetness of her\\nDisposition, as to have found herself oblig\\'d, either\\nto have yielded to enter into a State, which, in\\nthe Humour she was at present, must have made\\nher wretched; or, by refusing, incur the Displeasure\\nof a Lady, who she consider\\'d as a Parent,\\nand for whom she had the greatest Esteem, and\\ntenderest Regard. </s></p>\\n<p><s><ps><hi r=\"smcap\">Thus</hi> charming, and uncharm\\'d, did she pass\\nher Days in the most perfect Tranquillity that cou\\'d\\nbe; no austere Parent, or Guardian, to over‐awe\\nAversion, and force her to receive with Smiles the </ps>\\n'],\n",
       " '_version_': 1756321755984560128}"
      ]
     },
     "execution_count": 9,
     "metadata": {},
     "output_type": "execute_result"
    }
   ],
   "source": [
    "get_first(get_page_solr().search('text_id:_chadwyck/Eighteenth-Century_Fiction/haywood.11'))"
   ]
  },
  {
   "cell_type": "code",
   "execution_count": null,
   "metadata": {},
   "outputs": [],
   "source": []
  },
  {
   "cell_type": "code",
   "execution_count": null,
   "metadata": {},
   "outputs": [],
   "source": []
  },
  {
   "cell_type": "code",
   "execution_count": null,
   "metadata": {},
   "outputs": [],
   "source": []
  },
  {
   "cell_type": "code",
   "execution_count": null,
   "metadata": {},
   "outputs": [],
   "source": []
  }
 ],
 "metadata": {
  "kernelspec": {
   "display_name": "venv",
   "language": "python",
   "name": "python3"
  },
  "language_info": {
   "codemirror_mode": {
    "name": "ipython",
    "version": 3
   },
   "file_extension": ".py",
   "mimetype": "text/x-python",
   "name": "python",
   "nbconvert_exporter": "python",
   "pygments_lexer": "ipython3",
   "version": "3.8.14"
  },
  "orig_nbformat": 4,
  "vscode": {
   "interpreter": {
    "hash": "c5e94e7b5a7673f736607621901adfdfb7c95c778e103f8d74cac4b7005a364a"
   }
  }
 },
 "nbformat": 4,
 "nbformat_minor": 2
}
