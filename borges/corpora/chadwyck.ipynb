{
 "cells": [
  {
   "cell_type": "code",
   "execution_count": 1,
   "metadata": {},
   "outputs": [],
   "source": [
    "import os,sys; sys.path.insert(0,os.path.abspath('../..'))\n",
    "from borges import *\n",
    "from chadwyck import *"
   ]
  },
  {
   "cell_type": "code",
   "execution_count": 2,
   "metadata": {},
   "outputs": [],
   "source": [
    "class ChadwyckCorpus(BaseCorpus):\n",
    "    id='chadwyck'\n",
    "    name='Chadwyck'\n",
    "\n",
    "    def compile(self):\n",
    "        # setup\n",
    "        if not self.url_metadata or not self.url_raw: \n",
    "            log.error(f'url_metadata or url_raw not set')\n",
    "            return\n",
    "        \n",
    "        old=[]\n",
    "        for fn,xml in self.iter_raw():\n",
    "            fnmeta = get_meta_from_raw_xml(xml, fn)\n",
    "            _id = f'_{self.id}/{os.path.splitext(fnmeta[\"fn_raw\"])[0]}'\n",
    "            ometa={\n",
    "                KEY_ID:_id,\n",
    "                **fnmeta\n",
    "            }\n",
    "\n",
    "            num_rows = 0\n",
    "            num_words = 0\n",
    "            tld=[]\n",
    "            for tdx in iter_passages(xml):\n",
    "                num_rows += 1\n",
    "                num_words += len(tdx.get('text','').split())\n",
    "                tdx={**{KEY_ID:os.path.join(_id, f'{tdx[\"tag_i\"]:06}')}, **tdx}\n",
    "                tld.append(tdx)\n",
    "                yield {**ometa, **tdx}\n",
    "\n",
    "            \n",
    "            ometa['num_rows'] = num_rows\n",
    "            ometa['num_words'] = num_words\n",
    "            old.append(ometa)\n",
    "\n",
    "            # for tdx in tld:\n",
    "            #     yield {**ometa, **tdx}\n",
    "            # ometa['_doc'] = tld\n",
    "\n",
    "            # yield ometa\n",
    "        \n",
    "\n",
    "        df = pd.DataFrame(old).set_index(KEY_ID)\n",
    "        df.to_csv(self.path_metadata)\n",
    "\n",
    "            \n",
    "        \n",
    "\n",
    "\n",
    "    \n",
    "            \n",
    "\n",
    "        \n",
    "\n",
    "\n",
    "\n",
    "\n",
    "C=ChadwyckCorpus()\n",
    "f=C.compile()"
   ]
  },
  {
   "cell_type": "code",
   "execution_count": 3,
   "metadata": {},
   "outputs": [
    {
     "data": {
      "text/plain": [
       "'{\\n  \"responseHeader\":{\\n    \"zkConnected\":null,\\n    \"status\":0,\\n    \"QTime\":0,\\n    \"params\":{\\n      \"q\":\"{!lucene}*:*\",\\n      \"distrib\":\"false\",\\n      \"df\":\"_text_\",\\n      \"rows\":\"10\",\\n      \"echoParams\":\"all\",\\n      \"rid\":\"-24\"}},\\n  \"status\":\"OK\"}\\n'"
      ]
     },
     "execution_count": 3,
     "metadata": {},
     "output_type": "execute_result"
    }
   ],
   "source": [
    "import pysolr\n",
    "solr = pysolr.Solr('http://localhost:8983/solr/phoeb/', always_commit=True)\n",
    "solr.ping()"
   ]
  },
  {
   "cell_type": "code",
   "execution_count": 4,
   "metadata": {},
   "outputs": [
    {
     "name": "stderr",
     "output_type": "stream",
     "text": [
      " 81%|████████▏ | 8312/10208 [12:25<02:13, 14.21it/s]  "
     ]
    }
   ],
   "source": [
    "for x in C.compile():\n",
    "    solr.add(x)"
   ]
  },
  {
   "cell_type": "code",
   "execution_count": null,
   "metadata": {},
   "outputs": [
    {
     "data": {
      "text/plain": [
       "{'id': '_chadwyck/Eighteenth-Century_Fiction/paltock.01/000006',\n",
       " 'title': 'Peter Wilkins (1751)',\n",
       " 'idref': 'Z200043982',\n",
       " 'author': 'Paltock, Robert, 1697-1767',\n",
       " 'year': '1751',\n",
       " 'pub': 'Printed for J. Robinson, ... and R. Dodsley, [etc.]',\n",
       " 'type': 'BOOK',\n",
       " 'name': 'Vol. 1',\n",
       " 'nation': 'British',\n",
       " 'medium': 'Fiction',\n",
       " 'subcorpus': 'Eighteenth-Century_Fiction',\n",
       " 'fn_raw': 'Eighteenth-Century_Fiction/paltock.01.new',\n",
       " 'tree': '1.body > 2.doc > 3.pb > 4.div2 > 5.comhd2 > 6.idref',\n",
       " 'tag_i': 6,\n",
       " 'tag': 'idref',\n",
       " 'text': 'Z200043982'}"
      ]
     },
     "execution_count": 5,
     "metadata": {},
     "output_type": "execute_result"
    }
   ],
   "source": [
    "x"
   ]
  },
  {
   "cell_type": "code",
   "execution_count": null,
   "metadata": {},
   "outputs": [],
   "source": [
    "# list(solr.search('text:Z200043982'))"
   ]
  },
  {
   "cell_type": "code",
   "execution_count": null,
   "metadata": {},
   "outputs": [
    {
     "data": {
      "text/plain": [
       "[{'id': '_chadwyck/Eighteenth-Century_Fiction/paltock.01/000670',\n",
       "  'title': ['Peter Wilkins (1751)'],\n",
       "  'idref': ['Z200043982'],\n",
       "  'author': ['Paltock, Robert, 1697-1767'],\n",
       "  'year': [1751],\n",
       "  'pub': ['Printed for J. Robinson, ... and R. Dodsley, [etc.]'],\n",
       "  'type': ['BOOK'],\n",
       "  'name': ['Vol. 1'],\n",
       "  'nation': ['British'],\n",
       "  'medium': ['Fiction'],\n",
       "  'subcorpus': ['Eighteenth-Century_Fiction'],\n",
       "  'fn_raw': ['Eighteenth-Century_Fiction/paltock.01.new'],\n",
       "  'tree': ['1.body > 2.doc > 3.pb > 4.div2 > 401.pb > 488.pb > 587.div3 > 617.pb > 667.p > 670.s'],\n",
       "  'tag_i': 670,\n",
       "  'tag': ['s'],\n",
       "  'text': ['Why was I not placed out to some laborious\\nCraft, where I might have drudged for Bread in\\nmy proper Station! '],\n",
       "  '_version_': 1756293272563613696},\n",
       " {'id': '_chadwyck/Eighteenth-Century_Fiction/paltock.01/000266',\n",
       "  'title': ['Peter Wilkins (1751)'],\n",
       "  'idref': ['Z200043982'],\n",
       "  'author': ['Paltock, Robert, 1697-1767'],\n",
       "  'year': [1751],\n",
       "  'pub': ['Printed for J. Robinson, ... and R. Dodsley, [etc.]'],\n",
       "  'type': ['BOOK'],\n",
       "  'name': ['Vol. 1'],\n",
       "  'nation': ['British'],\n",
       "  'medium': ['Fiction'],\n",
       "  'subcorpus': ['Eighteenth-Century_Fiction'],\n",
       "  'fn_raw': ['Eighteenth-Century_Fiction/paltock.01.new'],\n",
       "  'tree': ['1.body > 2.doc > 3.pb > 4.div2 > 18.front > 58.pb > 163.pb > 164.div3 > 178.list1 > 264.label > 265.argument > 266.s'],\n",
       "  'tag_i': 266,\n",
       "  'tag': ['s'],\n",
       "  'text': ['An Account of the Grotto; a Room added to it; \\na View of that Building; the Author makes a\\nlittle Cart; also a wet Dock for his Boat; goes\\nin quest of Provision; a Description of divers\\nFruits and Plants; he brings Home a Cart&hyphen;load\\nof different Sorts; makes Experiments on them; \\nloads his Cart with others; a great Disappointment; \\nmakes good Bread; never sees the Sun; \\nthe Nature of the Light. '],\n",
       "  '_version_': 1756293241462849536}]"
      ]
     },
     "execution_count": 8,
     "metadata": {},
     "output_type": "execute_result"
    }
   ],
   "source": [
    "list(solr.search('text:bread'))"
   ]
  },
  {
   "cell_type": "code",
   "execution_count": null,
   "metadata": {},
   "outputs": [],
   "source": []
  }
 ],
 "metadata": {
  "kernelspec": {
   "display_name": "venv",
   "language": "python",
   "name": "python3"
  },
  "language_info": {
   "codemirror_mode": {
    "name": "ipython",
    "version": 3
   },
   "file_extension": ".py",
   "mimetype": "text/x-python",
   "name": "python",
   "nbconvert_exporter": "python",
   "pygments_lexer": "ipython3",
   "version": "3.8.14"
  },
  "orig_nbformat": 4,
  "vscode": {
   "interpreter": {
    "hash": "c5e94e7b5a7673f736607621901adfdfb7c95c778e103f8d74cac4b7005a364a"
   }
  }
 },
 "nbformat": 4,
 "nbformat_minor": 2
}
