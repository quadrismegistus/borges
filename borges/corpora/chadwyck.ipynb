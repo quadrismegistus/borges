{
 "cells": [
  {
   "cell_type": "code",
   "execution_count": 1,
   "metadata": {},
   "outputs": [],
   "source": [
    "import os,sys; sys.path.insert(0,os.path.abspath('../..'))\n",
    "import os,sys; sys.path.insert(0,os.path.abspath('/Users/ryan/github/yapmap'))\n",
    "\n",
    "from borges import *\n",
    "from chadwyck import *\n",
    "from yapmap import *"
   ]
  },
  {
   "cell_type": "code",
   "execution_count": 2,
   "metadata": {},
   "outputs": [],
   "source": [
    "class ChadwyckCorpus(BaseCorpus):\n",
    "    id='chadwyck'\n",
    "    name='Chadwyck'\n",
    "    ext_raw = '.new'\n",
    "\n",
    "    def compile_metadata(self, num_proc=4, lim=None, **kwargs):\n",
    "        res=pmap(compile_metadata, self.filenames_raw[:lim], num_proc=num_proc, **kwargs)\n",
    "        df=pd.DataFrame(res).set_index(KEY_ID)\n",
    "        df.to_csv(self.path_metadata)\n",
    "\n",
    "    def compile_pages(self, num_proc=4, lim=None, **kwargs):\n",
    "        pmap(\n",
    "            compile_pages, \n",
    "            self.filenames_raw[:lim], \n",
    "            num_proc=num_proc, \n",
    "            **kwargs\n",
    "        )"
   ]
  },
  {
   "cell_type": "code",
   "execution_count": 3,
   "metadata": {},
   "outputs": [],
   "source": [
    "C=ChadwyckCorpus()"
   ]
  },
  {
   "cell_type": "code",
   "execution_count": 4,
   "metadata": {},
   "outputs": [
    {
     "name": "stderr",
     "output_type": "stream",
     "text": [
      "100%|██████████| 36/36 [00:40<00:00,  1.14s/it]]/1338 [00:00<?, ?it/s]\n",
      "100%|██████████| 49/49 [00:56<00:00,  1.16s/it]]\n",
      "100%|██████████| 53/53 [01:00<00:00,  1.15s/it]]\n",
      "100%|██████████| 73/73 [01:28<00:00,  1.22s/it]]\n",
      "100%|██████████| 47/47 [00:59<00:00,  1.27s/it]]/1338 [01:29<33:11:59, 89.39s/it]\n",
      " 37%|███▋      | 132/359 [03:00<11:35,  3.06s/it] "
     ]
    }
   ],
   "source": [
    "# C.compile_metadata(lim=None, num_proc=8)\n",
    "C.compile_pages(num_proc=8,lim=None)"
   ]
  },
  {
   "cell_type": "code",
   "execution_count": null,
   "metadata": {},
   "outputs": [],
   "source": []
  },
  {
   "cell_type": "code",
   "execution_count": null,
   "metadata": {},
   "outputs": [],
   "source": [
    "# %%timeit\n",
    "# solr=get_meta_solr()\n",
    "# res=solr.search('id:_chadwyck/Eighteenth-Century_Fiction/haywood.11')\n",
    "# for x in res: break\n",
    "# x"
   ]
  },
  {
   "cell_type": "code",
   "execution_count": null,
   "metadata": {},
   "outputs": [
    {
     "data": {
      "text/plain": [
       "{'id': '_chadwyck/Eighteenth-Century_Fiction/haywood.11/page/9',\n",
       " 'text_id': ['_chadwyck/Eighteenth-Century_Fiction/haywood.11'],\n",
       " 'page_num': ['9'],\n",
       " 'page': ['<pb n=\"9\">\\n<ps>it in such a manner, that no Mortal was\\nable to resist their Force—And, indeed,\\nwhen Passion enters the Soul by such gentle and\\nunperceiv\\'d Degrees, it generally takes a surer hold,\\nand is with much less ease extirpated, than when\\nit rushes all at once upon us, and boldly tells us\\nthat we must obey. </ps></s></p>\\n<p><s><hi r=\"smcap\">Lasselia</hi> being such, and infinitely more agreeable\\nthan I have power to represent her, \\'tis\\neasy to believe she was not without a very great\\nNumber of Adorers: Both her Parents being dead,\\nMadam <hi r=\"italic\">de</hi> <hi r=\"smcap\">Montespan</hi> was never at rest for\\nthe Sollicitations of those whom the Perfections of\\nher beautiful Neice had attracted to desire her in\\nMarriage: but that Lady having Affairs enough\\nof her own to manage, troubled not herself much\\nabout it; and had <hi r=\"smcap\">Lasselia</hi> been inclinable to\\nalter her Condition, whether to her Advantage or\\nnot, \\'tis probable the other, in spite of the Kindness\\nshe had for her, would not have taken much\\npains either to have forwarded or prevented it. </s></p>\\n<p><s><hi r=\"smcap\">The</hi> young, and as yet insensible Subject of\\nthis little History, thought herself happy in this\\nDisposition of her Aunt, which gave her so much\\nthe liberty of acting as she pleas\\'d; for finding in\\nherself rather an Aversion to Marriage, than any\\nInclination to it, nothing could have been so\\nshocking to the Humility and Sweetness of her\\nDisposition, as to have found herself oblig\\'d, either\\nto have yielded to enter into a State, which, in\\nthe Humour she was at present, must have made\\nher wretched; or, by refusing, incur the Displeasure\\nof a Lady, who she consider\\'d as a Parent,\\nand for whom she had the greatest Esteem, and\\ntenderest Regard. </s></p>\\n<p><s><ps><hi r=\"smcap\">Thus</hi> charming, and uncharm\\'d, did she pass\\nher Days in the most perfect Tranquillity that cou\\'d\\nbe; no austere Parent, or Guardian, to over‐awe\\nAversion, and force her to receive with Smiles the </ps>\\n'],\n",
       " '_version_': 1756321755984560128}"
      ]
     },
     "execution_count": 9,
     "metadata": {},
     "output_type": "execute_result"
    }
   ],
   "source": [
    "get_first(get_page_solr().search('text_id:_chadwyck/Eighteenth-Century_Fiction/haywood.11'))"
   ]
  },
  {
   "cell_type": "code",
   "execution_count": null,
   "metadata": {},
   "outputs": [],
   "source": []
  },
  {
   "cell_type": "code",
   "execution_count": null,
   "metadata": {},
   "outputs": [],
   "source": []
  },
  {
   "cell_type": "code",
   "execution_count": null,
   "metadata": {},
   "outputs": [],
   "source": []
  },
  {
   "cell_type": "code",
   "execution_count": null,
   "metadata": {},
   "outputs": [],
   "source": []
  }
 ],
 "metadata": {
  "kernelspec": {
   "display_name": "venv",
   "language": "python",
   "name": "python3"
  },
  "language_info": {
   "codemirror_mode": {
    "name": "ipython",
    "version": 3
   },
   "file_extension": ".py",
   "mimetype": "text/x-python",
   "name": "python",
   "nbconvert_exporter": "python",
   "pygments_lexer": "ipython3",
   "version": "3.8.14"
  },
  "orig_nbformat": 4,
  "vscode": {
   "interpreter": {
    "hash": "c5e94e7b5a7673f736607621901adfdfb7c95c778e103f8d74cac4b7005a364a"
   }
  }
 },
 "nbformat": 4,
 "nbformat_minor": 2
}
