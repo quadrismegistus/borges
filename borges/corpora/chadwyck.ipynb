{
 "cells": [
  {
   "cell_type": "code",
   "execution_count": 1,
   "metadata": {},
   "outputs": [],
   "source": [
    "import os,sys; sys.path.insert(0,os.path.abspath('../..'))\n",
    "from borges import *\n",
    "from chadwyck import *\n",
    "\n",
    "# from yapmap import *"
   ]
  },
  {
   "cell_type": "code",
   "execution_count": 2,
   "metadata": {},
   "outputs": [],
   "source": [
    "# DB().client.drop_database('borges')"
   ]
  },
  {
   "cell_type": "code",
   "execution_count": 8,
   "metadata": {},
   "outputs": [],
   "source": [
    "C=ChadwyckCorpus()\n",
    "# C.compile_metadata()\n",
    "# C"
   ]
  },
  {
   "cell_type": "code",
   "execution_count": 4,
   "metadata": {},
   "outputs": [],
   "source": [
    "# print(C.search('\"invisible agency\"').iloc[0].page)"
   ]
  },
  {
   "cell_type": "code",
   "execution_count": 5,
   "metadata": {},
   "outputs": [],
   "source": [
    "# C.compile_metadata()"
   ]
  },
  {
   "cell_type": "code",
   "execution_count": 13,
   "metadata": {},
   "outputs": [],
   "source": [
    "# C.compile_pages()"
   ]
  },
  {
   "cell_type": "code",
   "execution_count": 14,
   "metadata": {},
   "outputs": [],
   "source": [
    "# pd.DataFrame(DB().pages.find({'$text':{'$search':'\"invisible agent\"'}}))"
   ]
  },
  {
   "cell_type": "code",
   "execution_count": 19,
   "metadata": {},
   "outputs": [
    {
     "name": "stdout",
     "output_type": "stream",
     "text": [
      "<pb n=\"199\">\n",
      "<eaffig volid=\"eaf417\" entity=\"f417-540\">\n",
      "<figdesc>Page 199.</figdesc>\n",
      "</eaffig>\n",
      "<milestn unit=\"column\" n=\"1\">\n",
      "are not wives; and why the equivocal word is preferred<lb>\n",
      "to the distinct one; and why the wife is treated if<lb>\n",
      "it were the less honorable.</p>\n",
      "<p>“Formerly men used to have wives, not ladies; but<lb>\n",
      "in the announcement of births it has seemed finer to<lb>\n",
      "Mr. Spruggins and Mr. Wiggins to say that his lady<lb>\n",
      "has been delivered than his wife, the latter sounding<lb>\n",
      "homely and low.</p>\n",
      "<p>“But Sir Robert Peel should not be led away by<lb>\n",
      "these examples. He is of importance enough in the<lb>\n",
      "world to afford to mention his wife in plain, honest,<lb>\n",
      "homely old English.</p>\n",
      "<p>“Any one who is disposed to give lessons in letterwriting<lb>\n",
      "can not do better than collect Sir Robert<lb>\n",
      "Peel's notes as warning examples. From the Velveteens<lb>\n",
      "to Miss Brown's £20 a year, they have all the<lb>\n",
      "same atrocious offences of style and taste. It is another<lb>\n",
      "variety of the Yellow Plush school.</p>\n",
      "<p>“It distresses us to see it. We should like to see<lb>\n",
      "Miss Brown's £20 a year rendered into plain, gentlemanly<lb>\n",
      "English.</p>\n",
      "<p>“As prizes are the fashion, perhaps some one will<lb>\n",
      "give a prize for the best translation of Sir Robert<lb>\n",
      "Peel's notes into the language of ease, simplicity, and<lb>\n",
      "with them, good taste.”</p>\n",
      "<p>Sir Robert's crockery note proves, not that his premiership<lb>\n",
      "still shows the lint of the spinning jenny, but<lb>\n",
      "that he employed one of his clerks (suitably impressed<lb>\n",
      "with his duty to Lady Peel) to write the letter. We<lb>\n",
      "wish to call attention, however, to the <hi rend=\"italics\">superior simplicity<lb>\n",
      "of the taste contended for by the critic</hi>, and to<lb>\n",
      "the evidence it gives that extremes meet in the usages<lb>\n",
      "of good breeding as in other things—the highest refinement<lb>\n",
      "fairly lapping over upon what nature started<lb>\n",
      "with. The application of this is almost universal, but<lb>\n",
      "perhaps we had better particularize at once, and confess<lb>\n",
      "to as much annoyance as we have a right to express<lb>\n",
      "(in “a free country”) at the affected use of the<lb>\n",
      "word <hi rend=\"italics\">lady</hi> in the United States, and the superfine<lb>\n",
      "shrinking from the honest words <hi rend=\"italics\">wife</hi> and <hi rend=\"italics\">woman</hi>.<lb>\n",
      "Those who say “this is my <hi rend=\"italics\">lady</hi>, sir!” instead of<lb>\n",
      "“this is my <hi rend=\"italics\">wife</hi>, sir!” or those who say “she is a<lb>\n",
      "very pretty <hi rend=\"italics\">lady</hi>,” instead of “she is a very pretty<lb>\n",
      "<hi rend=\"italics\">woman</hi>,” should at least know what the words mean,<lb>\n",
      "and what they convey to others.</p>\n",
      "<p>In common usage, to speak of one's <hi rend=\"italics\">wife</hi> as one's<lb>\n",
      "<hi rend=\"italics\">lady</hi>, smacks of low-breeding, because it expresses a<lb>\n",
      "kind of announcement of her rank, as if her rank<lb>\n",
      "would not otherwise be understood. It is sometimes<lb>\n",
      "used from a dread of plain-spoken-ness, by men who<lb>\n",
      "doubt their own manners—but, as it always betrays<lb>\n",
      "the doubt, it is in bad taste. The etymology of the<lb>\n",
      "plainer words is a better argument in their favor, however.<lb>\n",
      "In the Saxon language from which they are<lb>\n",
      "derived, <hi rend=\"italics\">wœepman</hi> signifies <hi rend=\"italics\">that</hi> one of the conjugal<lb>\n",
      "pair who employed the weapons necessary for the defence<lb>\n",
      "of the family, and <hi rend=\"italics\">wif-man</hi> signified the one<lb>\n",
      "who was employed at the <hi rend=\"italics\">woof</hi>, clothing the family by<lb>\n",
      "her industry. (The terms of endearment, of course,<lb>\n",
      "were “my fighter,” and “my weaver!”) instead of<lb>\n",
      "this honestly derived word (<hi rend=\"italics\">wife</hi>), meaning the one<lb>\n",
      "who has the care of the family, the word <hi rend=\"italics\">lady</hi> is used,<lb>\n",
      "which (also by derivation from the Saxon) signifies<lb>\n",
      "<hi rend=\"italics\">one who is raised to the rank of her conjugal mate!</hi><lb>\n",
      "But, in this country, where the males invariably burrow<lb>\n",
      "in trade, while the females as invariably soar out<lb>\n",
      "of their reach in the sunshine of cultivation, <hi rend=\"italics\">few women</hi><lb>\n",
      "are <hi rend=\"italics\">raised</hi> to the rank of their husbands. It is an<lb>\n",
      "injustice to almost any American woman to say as<lb>\n",
      "much—by calling her a <hi rend=\"italics\">lady</hi>.</p>\n",
      "<p>It is one part, though ever so small a part, of patriotism,<lb>\n",
      "to toil for improving the <hi rend=\"italics\">manners</hi> of the country.<lb>\n",
      "If we can avoid the long round of affectations,<lb>\n",
      "and make a short cut to good taste by at once submitting<lb>\n",
      "every question of manners to the three ultimate<lb>\n",
      "standards of high-breeding—<hi rend=\"italics\">simplicity, disinterestedness</hi>,<lb>\n",
      "<milestn unit=\"column\" n=\"2\">and <hi rend=\"italics\">modesty</hi>, it might save us the century<lb>\n",
      "or two of bad taste through which older countries<lb>\n",
      "have found their way to refinement. Amen!</p>\n",
      "</div7>\n",
      "<div7>\n",
      "<comhd7><idref>Z700022274</idref><collection>1 2</collection>LETTER TO FANNY FORESTER. <attbytes>7Kb</attbytes><reflink></reflink><comcitn><TY>BOOK</TY><ID>Z700022274</ID><A1>Willis, Nathaniel Parker, 1806-1867</A1><T1>Dashes at Life with a Free Pencil (1845)</T1><PBL>Burgess, Stringer & Co.</PBL><Y1>1845</Y1><T2>Literature Online</T2></comcitn></comhd7>\n",
      "<p><hi rend=\"smallcaps\">Dear Fanny</hi>: Would your dark eyes vouchsafe<lb>\n",
      "to wonder how I come to write to you? Thus it<lb>\n",
      "befell:—</p>\n",
      "<p>You live in the country and know what log-hauling<lb>\n",
      "is like—over the stumps in the woods. You have,<lb>\n",
      "many a time, mentally consigned, to condign axe and<lb>\n",
      "fire, the senseless trunk that, all its life, had found<lb>\n",
      "motion enough to make way for every silly breeze<lb>\n",
      "that flirted over it, but lay in unyielding immoveableness<lb>\n",
      "when poor oxen and horses were tortured to make<lb>\n",
      "it stir! If you knew what a condition Broadway is in—<lb>\n",
      "what horses have to suffer to draw omnibuses—and<lb>\n",
      "how many pitiless human trunks are willing doggedly<lb>\n",
      "to sit still to be drawn home to the fire by brute agony—<lb>\n",
      "you would see how, while walking in Broadway, I was<lb>\n",
      "reminded of log-hauling—then of the country—and<lb>\n",
      "then, of course, of Fanny Forester.</p>\n",
      "<p>Before setting the news to trickle from my full<lb>\n",
      "pen let me quote from a book (one that is my present<lb>\n",
      "passion), a fine thought or two on the cruelty to animals<lb>\n",
      "that has, this day, in Broadway, made me—no<lb>\n",
      "better than Uncle Toby in Flanders!</p>\n",
      "<q><lg type=\"verse\">\n",
      "<l>“Shame upon creation's lord, the fierce unsanguined despot:</l>\n",
      "<l>What! art thou not content thy sin hath dragged down<lb>\n",
      "suffering and death</l>\n",
      "<l>Upon the poor dumb servants of thy comfort, and yet must<lb>\n",
      "thou rack them with thy spite?</l>\n",
      "<l>For very shame be merciful, be kind unto the creature thou<lb>\n",
      "hast ruined;</l>\n",
      "<l>Earth and her million tribes are cursed for thy sake;</l>\n",
      "<l>Liveth there but one among the million that shall not bear<lb>\n",
      "witness against thee,</l>\n",
      "<l>A pensioner of land or air or sea, that hath not whereof it<lb>\n",
      "will accuse thee?</l>\n",
      "<l>From the elephant toiling at a launch, to the shrew-mouse<lb>\n",
      "in the harvest-field,</l>\n",
      "<l>From the whale which the harpooner hath stricken, to the<lb>\n",
      "minnow caught upon a pin,</l>\n",
      "<l>From the albatross wearied in its flight, to the wren in her<lb>\n",
      "covered nest,</l>\n",
      "<l>From the death-moth and the lace-winged dragon-fly, to the<lb>\n",
      "lady-bird and the gnat,</l>\n",
      "<l>The verdict of all things is unanimous, finding their master<lb>\n",
      "cruel:</l>\n",
      "<l>The dog, thy humble friend, thy trusting, honest friend,</l>\n",
      "<l>The horse, thy uncomplaining slave, drudging from morn<lb>\n",
      "to even,</l>\n",
      "<l>The lamb, and the timorous hare, and the laboring ox at<lb>\n",
      "plough,</l>\n",
      "<l>And all things that minister alike to thy life and thy comfort<lb>\n",
      "and thy pride,</l>\n",
      "<l>Testify with one sad voice that man is a cruel master.</l>\n",
      "<l>The galled ox can not complain, nor supplicate a moment's<lb>\n",
      "respite;</l>\n",
      "<l>The spent horse hideth his distress, till he panted out his<lb>\n",
      "spirit at the goal;</l>\n",
      "<l>Behold, he is faint with hunger; the big tear standeth in<lb>\n",
      "his eye;</l>\n",
      "<l>His skin is sore with stripes, and he tottereth beneath his<lb>\n",
      "burden;</l>\n",
      "<l>His limbs are stiff with age, his sinews have lost their<lb>\n",
      "vigor,</l>\n",
      "<l>And pain is stamped upon his face, while he wrestleth<lb>\n",
      "unequally with toil;</l>\n",
      "<l>Yet once more mutely and meekly endureth he the crushing<lb>\n",
      "blow;</l>\n",
      "<l>That struggle hath cracked his heart-strings—the generous<lb>\n",
      "brute is dead!”</l>\n",
      "</lg></q>\n",
      "<p>I doubt whether fifty years of jumping toothache<lb>\n",
      "would not be a lesser evil, hereafter, than the retribution<lb>\n",
      "charged this day against each passenger from<lb>\n",
      "Wall street to Bleecker. And, as if to aggravate the<lb>\n",
      "needlessness of the sin, the sidewalk was like the sidewalks<lb>\n",
      "in June—dry, sunny, and besprinkled with adorable<lb>\n",
      "shoppers. With the sides of the street thus<lb>\n",
      "</pb>\n"
     ]
    }
   ],
   "source": [
    "print(DB().pages.find_one('_chadwyck/Early_American_Fiction/willisna.01/page/199')['page'])"
   ]
  },
  {
   "cell_type": "code",
   "execution_count": null,
   "metadata": {},
   "outputs": [],
   "source": []
  },
  {
   "cell_type": "code",
   "execution_count": null,
   "metadata": {},
   "outputs": [],
   "source": []
  }
 ],
 "metadata": {
  "kernelspec": {
   "display_name": "venv",
   "language": "python",
   "name": "python3"
  },
  "language_info": {
   "codemirror_mode": {
    "name": "ipython",
    "version": 3
   },
   "file_extension": ".py",
   "mimetype": "text/x-python",
   "name": "python",
   "nbconvert_exporter": "python",
   "pygments_lexer": "ipython3",
   "version": "3.8.14"
  },
  "orig_nbformat": 4,
  "vscode": {
   "interpreter": {
    "hash": "c5e94e7b5a7673f736607621901adfdfb7c95c778e103f8d74cac4b7005a364a"
   }
  }
 },
 "nbformat": 4,
 "nbformat_minor": 2
}
