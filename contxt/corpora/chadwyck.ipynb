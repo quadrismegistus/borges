{
 "cells": [
  {
   "cell_type": "code",
   "execution_count": 1,
   "metadata": {},
   "outputs": [
    {
     "name": "stderr",
     "output_type": "stream",
     "text": [
      "/Users/ryan/github/contxt/venv/lib/python3.8/site-packages/tqdm/auto.py:22: TqdmWarning: IProgress not found. Please update jupyter and ipywidgets. See https://ipywidgets.readthedocs.io/en/stable/user_install.html\n",
      "  from .autonotebook import tqdm as notebook_tqdm\n"
     ]
    }
   ],
   "source": [
    "import os,sys; sys.path.insert(0,os.path.abspath('../..'))\n",
    "from contxt import *\n",
    "from chadwyck import *"
   ]
  },
  {
   "cell_type": "code",
   "execution_count": 2,
   "metadata": {},
   "outputs": [],
   "source": [
    "C=ChadwyckCorpus()"
   ]
  },
  {
   "cell_type": "code",
   "execution_count": 3,
   "metadata": {},
   "outputs": [
    {
     "name": "stderr",
     "output_type": "stream",
     "text": [
      "Extracting chadwyck_raw.zip to /Users/ryan/contxt_data/corpora/chadwyck: 100%|██████████| 1338/1338 [00:00<00:00, 243935.44it/s]\n",
      "Mapping do_compile_sents() [x7]: 100%|██████████| 1338/1338 [00:02<00:00, 488.92it/s] \n"
     ]
    }
   ],
   "source": [
    "C.compile_sents(num_proc=7, lim=None)"
   ]
  },
  {
   "cell_type": "code",
   "execution_count": null,
   "metadata": {},
   "outputs": [],
   "source": []
  }
 ],
 "metadata": {
  "kernelspec": {
   "display_name": "Python 3",
   "language": "python",
   "name": "python3"
  },
  "language_info": {
   "codemirror_mode": {
    "name": "ipython",
    "version": 3
   },
   "file_extension": ".py",
   "mimetype": "text/x-python",
   "name": "python",
   "nbconvert_exporter": "python",
   "pygments_lexer": "ipython3",
   "version": "3.10.7"
  },
  "orig_nbformat": 4,
  "vscode": {
   "interpreter": {
    "hash": "fd885e6996c52258e06d7b41fb512c4cdccab3089eb52b609ad63de9ad6ede35"
   }
  }
 },
 "nbformat": 4,
 "nbformat_minor": 2
}
