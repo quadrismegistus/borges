{
 "cells": [
  {
   "cell_type": "code",
   "execution_count": 4,
   "metadata": {},
   "outputs": [],
   "source": [
    "import os,sys; sys.path.insert(0,os.path.abspath('../..'))\n",
    "from contxt import *\n",
    "from chadwyck import *"
   ]
  },
  {
   "cell_type": "code",
   "execution_count": 6,
   "metadata": {},
   "outputs": [],
   "source": [
    "C=ChadwyckCorpus()"
   ]
  },
  {
   "cell_type": "code",
   "execution_count": 8,
   "metadata": {},
   "outputs": [],
   "source": [
    "# C.compile_pages()"
   ]
  },
  {
   "cell_type": "code",
   "execution_count": 17,
   "metadata": {},
   "outputs": [
    {
     "name": "stdout",
     "output_type": "stream",
     "text": [
      "<pb n=\"182\">\n",
      "<eaffig volid=\"eaf309\" entity=\"f309-074\">\n",
      "<figdesc>Page 182.</figdesc>\n",
      "</eaffig>\n",
      "We have heard “pretty considerable” of scolding and<lb>\n",
      "vociferation; but, by the account received from Reuben<lb>\n",
      "Rossmore, it was the trickling of a rill to the roaring<lb>\n",
      "of a cataract, the chirping of a flock of snow-birds to<lb>\n",
      "the sonorous gabble of a rencounter of two flocks of<lb>\n",
      "turkeys. We are credibly informed, on the same authority,<lb>\n",
      "that the gesticulation was equal to the vociferation,<lb>\n",
      "and altogether it seemed that every moment would<lb>\n",
      "produce a battle royal. By degrees, however, the longtailed<lb>\n",
      "vehicles got disentangled, the little Canadians<lb>\n",
      "gradually cooled down, and, in one minute after the<lb>\n",
      "vociferation subsided, were as merry and good-humoured<lb>\n",
      "as crickets in a warm winter's hearth. Our<lb>\n",
      "travellers put up at the British American Hotel, on the<lb>\n",
      "score of patriotism,—the sign of this establishment being<lb>\n",
      "so happily disposed, by accident probably, towards the<lb>\n",
      "river, that in approaching from La Prairie you see<lb>\n",
      "only the words “American Hotel.” Here Julius and<lb>\n",
      "Mrs. Orendorf were delighted to meet again the fashionable<lb>\n",
      "picturesque-hunting party, who declared they<lb>\n",
      "had been tired to death riding across the Prairie, tired<lb>\n",
      "to death of waiting a full hour for the ferry-boat at La<lb>\n",
      "Prairie, tired to death of the ferry-boat, and lastly, that<lb>\n",
      "they were now tired to death of Montreal, and were<lb>\n",
      "going that very afternoon to embark in the steamboat<lb>\n",
      "for Quebec. Childe Roeliff, who sometimes accidentally<lb>\n",
      "blundered out a spice of common sense, observed,<lb>\n",
      "after listening to all this,—</p>\n",
      "<p>“I wonder, if you are so tired of every thing, you<lb>\n",
      "don't go home and stay there.”</p>\n",
      "<p>“<hi rend=\"italics\">Quel bête!</hi>” whispered Mrs. Dowdykin, the head<lb>\n",
      "matron of the picturesque party, to Count Capo d'Oca,<lb>\n",
      "her Platonic.</p>\n",
      "<p>The soft, gentle, quiet kindness of Minerva towards<lb>\n",
      "Reuben since the declaration which caused such a precipitate<lb>\n",
      "flight on the part of that young lady, had assured<lb>\n",
      "him that the offence was not unpardonable; and,<lb>\n",
      "</pb>\n"
     ]
    }
   ],
   "source": [
    "print(C.search('tired').page.iloc[0])"
   ]
  },
  {
   "cell_type": "code",
   "execution_count": null,
   "metadata": {},
   "outputs": [],
   "source": []
  }
 ],
 "metadata": {
  "kernelspec": {
   "display_name": "venv",
   "language": "python",
   "name": "python3"
  },
  "language_info": {
   "codemirror_mode": {
    "name": "ipython",
    "version": 3
   },
   "file_extension": ".py",
   "mimetype": "text/x-python",
   "name": "python",
   "nbconvert_exporter": "python",
   "pygments_lexer": "ipython3",
   "version": "3.8.14 (default, Sep 27 2022, 10:48:18) \n[Clang 13.1.6 (clang-1316.0.21.2.5)]"
  },
  "orig_nbformat": 4,
  "vscode": {
   "interpreter": {
    "hash": "d67fce64a9e315a72088968c567cf7bc6ff23ba4b4964119b2ca20aa7c3efe92"
   }
  }
 },
 "nbformat": 4,
 "nbformat_minor": 2
}
