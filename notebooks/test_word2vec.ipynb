{
 "cells": [
  {
   "cell_type": "code",
   "execution_count": null,
   "metadata": {},
   "outputs": [],
   "source": []
  },
  {
   "cell_type": "code",
   "execution_count": 1,
   "metadata": {},
   "outputs": [],
   "source": [
    "import sys; sys.path.insert(0,'..')\n",
    "from contxt import *\n",
    "from contxt.wordvecs import Word2Vex"
   ]
  },
  {
   "cell_type": "code",
   "execution_count": 2,
   "metadata": {},
   "outputs": [],
   "source": [
    "w2v = Word2Vex('../../ppa-analysis/data/ppa_word2vec_corpora_dec/data.PPA.sents.1900-1910.txt')"
   ]
  },
  {
   "cell_type": "code",
   "execution_count": 5,
   "metadata": {},
   "outputs": [],
   "source": [
    "# models = w2v.train(n=25, num_proc=4, force=False)\n",
    "# # models"
   ]
  },
  {
   "cell_type": "code",
   "execution_count": 6,
   "metadata": {},
   "outputs": [],
   "source": [
    "# import gensim\n",
    "# m = gensim.models.KeyedVectors.load_word2vec_format('/Users/ryan/contxt_data/data/word2vex/PPA.sents.1800-1810/run_25/model.txt.gz')\n"
   ]
  },
  {
   "cell_type": "code",
   "execution_count": null,
   "metadata": {},
   "outputs": [
    {
     "data": {
      "text/plain": [
       "[('paraphrase', 0.7954108715057373),\n",
       " ('manuscript', 0.7866039276123047),\n",
       " ('edition', 0.7628017067909241),\n",
       " ('version', 0.7627672553062439),\n",
       " ('translation', 0.7541753053665161),\n",
       " ('ms.', 0.7519777417182922),\n",
       " ('chronicle', 0.7511125206947327),\n",
       " ('transcript', 0.7504940032958984),\n",
       " ('collection', 0.7490201592445374),\n",
       " ('novel', 0.7484404444694519)]"
      ]
     },
     "execution_count": 6,
     "metadata": {},
     "output_type": "execute_result"
    }
   ],
   "source": [
    "m.most_similar('ballad')"
   ]
  },
  {
   "cell_type": "code",
   "execution_count": null,
   "metadata": {},
   "outputs": [],
   "source": []
  }
 ],
 "metadata": {
  "kernelspec": {
   "display_name": "venv",
   "language": "python",
   "name": "python3"
  },
  "language_info": {
   "codemirror_mode": {
    "name": "ipython",
    "version": 3
   },
   "file_extension": ".py",
   "mimetype": "text/x-python",
   "name": "python",
   "nbconvert_exporter": "python",
   "pygments_lexer": "ipython3",
   "version": "3.8.14"
  },
  "orig_nbformat": 4
 },
 "nbformat": 4,
 "nbformat_minor": 2
}
